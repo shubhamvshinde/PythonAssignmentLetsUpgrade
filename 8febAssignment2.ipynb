{
  "nbformat": 4,
  "nbformat_minor": 0,
  "metadata": {
    "colab": {
      "name": "8febAssignment2.ipynb",
      "provenance": [],
      "authorship_tag": "ABX9TyNsHF1Tchzrlv6y/WxzJijC",
      "include_colab_link": true
    },
    "kernelspec": {
      "name": "python3",
      "display_name": "Python 3"
    }
  },
  "cells": [
    {
      "cell_type": "markdown",
      "metadata": {
        "id": "view-in-github",
        "colab_type": "text"
      },
      "source": [
        "<a href=\"https://colab.research.google.com/github/shubhamvshinde/PythonAssignmentLetsUpgrade/blob/main/8febAssignment2.ipynb\" target=\"_parent\"><img src=\"https://colab.research.google.com/assets/colab-badge.svg\" alt=\"Open In Colab\"/></a>"
      ]
    },
    {
      "cell_type": "markdown",
      "metadata": {
        "id": "pIlv09qL_PTO"
      },
      "source": [
        "Assignment2"
      ]
    },
    {
      "cell_type": "code",
      "metadata": {
        "colab": {
          "base_uri": "https://localhost:8080/"
        },
        "id": "HF5ruyqoDWSW",
        "outputId": "7e971237-180b-46b3-bebb-057156622bd4"
      },
      "source": [
        "altitude =int(input(\"enter the altitude=\"))\r\n",
        "\r\n",
        "if altitude > 5000:\r\n",
        "  print(\"Hey pilot,please Go around and try later\")\r\n",
        "elif altitude > 1000 and altitude < 5000:\r\n",
        "    print(\"Hey pilot,Come down to 1000fit\")\r\n",
        "else:\r\n",
        "    print(\"Hey pilot,land the plane\")"
      ],
      "execution_count": 10,
      "outputs": [
        {
          "output_type": "stream",
          "text": [
            "enter the altitude=4500\n",
            "Hey pilot,Come down to 1000fit\n"
          ],
          "name": "stdout"
        }
      ]
    },
    {
      "cell_type": "code",
      "metadata": {
        "id": "QK33q7zaDmI6"
      },
      "source": [
        ""
      ],
      "execution_count": null,
      "outputs": []
    }
  ]
}